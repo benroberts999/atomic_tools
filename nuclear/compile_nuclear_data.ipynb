{
 "cells": [
  {
   "cell_type": "markdown",
   "metadata": {},
   "source": [
    "# Nuclear\n",
    "\n",
    "Should get:\n",
    "\n",
    " * rms data\n",
    " * magnetic moments (recommended)\n",
    " * quadrupole moments (recommended)\n",
    "   * Then the \"compiled\" data, only if not in above\n",
    " * Also: existing list\n",
    "   * update exiting list with new data from above\n",
    "   * But don't delete items from existing list!\n",
    " * Have extra \"manual override\" file\n",
    "\n",
    "\n",
    "For moments:\n",
    "  * Drop anything not nuclear ground state\n",
    "  * Spin: get spin and parity from string \"3/2-\" -> 1.5, -1\n",
    "  * Moments uncertainty: 1.1234(56) -> 1.1234, 0.0056\n",
    "\n",
    "For radius:\n",
    "  * Use prelim data, if available"
   ]
  },
  {
   "cell_type": "code",
   "execution_count": 34,
   "metadata": {},
   "outputs": [],
   "source": [
    "import numpy as np\n",
    "from matplotlib import pyplot as plt\n",
    "import requests\n",
    "import pandas as pd\n",
    "from io import BytesIO"
   ]
  },
  {
   "cell_type": "code",
   "execution_count": 35,
   "metadata": {},
   "outputs": [],
   "source": [
    "mu_url = \"https://www-nds.iaea.org/nuclearmoments/magn_mom_recomm.csv\"\n",
    "rrms_url = \"https://www-nds.iaea.org/radii/charge_radii.csv\"\n",
    "Q_url = \"https://www-nds.iaea.org/nuclearmoments/elec_mom_recomm.csv\"\n",
    "# only use this one to fill any gaps - don't update\n",
    "muQ_url = \"https://www-nds.iaea.org/nuclearmoments/nuc_mom_compilation.csv\"\n",
    "\n",
    "\n",
    "mu_recieved = requests.get(mu_url)\n",
    "rrms_recieved = requests.get(rrms_url)\n",
    "Q_recieved = requests.get(Q_url)\n",
    "muQ_recieved = requests.get(muQ_url)"
   ]
  },
  {
   "cell_type": "code",
   "execution_count": 116,
   "metadata": {},
   "outputs": [],
   "source": [
    "def convert_to_float_or_nan(string):\n",
    "    try:\n",
    "        if \"/\" in string:\n",
    "            a, b = string.split(\"/\")\n",
    "            return float(a) / int(b)\n",
    "        else:\n",
    "            return float(string)\n",
    "    except ValueError:\n",
    "        return np.nan\n",
    "\n",
    "\n",
    "def parse_rrms_data(content):\n",
    "\n",
    "    rrms_data = pd.read_csv(BytesIO(content)).values\n",
    "\n",
    "    # if there is preliminary rms data, use that\n",
    "    for row in rrms_data:\n",
    "        if not np.isnan(row[6]):\n",
    "            row[4] = row[6]\n",
    "\n",
    "    # delete any with Z<1 (has neutron)\n",
    "    rrms_data = np.delete(rrms_data, rrms_data[:, 0] < 1, axis=0)\n",
    "\n",
    "    # delete collumns we don't need\n",
    "    rrms_data = np.delete(rrms_data, [1, 2, 5, 6, 7], axis=1)\n",
    "\n",
    "    # make slots for I, pi, mu, Q\n",
    "    nans = np.empty((len(rrms_data), 4))\n",
    "    nans[:] = np.nan\n",
    "    return np.append(rrms_data, nans, axis=1)\n",
    "\n",
    "\n",
    "def parse_moment_data(content):\n",
    "\n",
    "    data = pd.read_csv(BytesIO(content))\n",
    "    data = data.drop(\n",
    "        [\"symbol\", \"halflife\", \"method\", \"description\", \"nsr\", \"journal\", \"indc\"],\n",
    "        axis=1,\n",
    "    )\n",
    "\n",
    "    # Remove neutron, and excited states\n",
    "    data = data[data[\"z\"] != 0]\n",
    "    data = data[data[\"energy [keV]\"] == \"0\"]\n",
    "    data = data.drop([\"energy [keV]\"], axis=1)\n",
    "\n",
    "    # make room for parsed data (I, pi, mu/Q)\n",
    "    data = data.values\n",
    "    nans = np.empty((len(data), 3))\n",
    "    nans[:] = np.nan\n",
    "    data = np.append(data, nans, axis=1)\n",
    "\n",
    "    for row in data:\n",
    "        jpi = row[2]\n",
    "        # Some values which are uncertain are in parenthesis\n",
    "        jpi = jpi.replace(\"(\", \"\").replace(\")\", \"\")\n",
    "\n",
    "        pi = -1 if jpi[-1] == \"-\" else +1\n",
    "\n",
    "        jpi = jpi.replace(\"+\", \"\").replace(\"-\", \"\")\n",
    "        jpi = jpi.replace(\"if\", \"\").replace(\" \", \"\")\n",
    "\n",
    "        I = convert_to_float_or_nan(jpi)\n",
    "\n",
    "        row[4] = I\n",
    "        row[5] = pi\n",
    "\n",
    "        # when the sign is uncertain, in the form \"(+)1.234\" or \"(-)1.234\"\n",
    "        if \"(+)\" in row[3]:\n",
    "            row[3] = row[3].split(\"(+)\")[1]\n",
    "        if \"(-)\" in row[3]:\n",
    "            row[3] = \"-\" + row[3].split(\"(-)\")[1]\n",
    "\n",
    "        # Get rid of uncertainties\n",
    "        string = row[3].split(\"(\")[0].replace(\" \", \"\")\n",
    "        mu = convert_to_float_or_nan(string)\n",
    "        row[6] = mu\n",
    "\n",
    "    # delete collumns we don't need\n",
    "    return np.delete(data, [2, 3], axis=1)"
   ]
  },
  {
   "cell_type": "code",
   "execution_count": 117,
   "metadata": {},
   "outputs": [
    {
     "name": "stdout",
     "output_type": "stream",
     "text": [
      "(956, 7)\n",
      "(800, 5)\n",
      "(533, 5)\n"
     ]
    }
   ],
   "source": [
    "rrms_data = parse_rrms_data(rrms_recieved.content)\n",
    "mu_data = parse_moment_data(mu_recieved.content)\n",
    "Q_data = parse_moment_data(Q_recieved.content)\n",
    "\n",
    "print(rrms_data.shape)\n",
    "print(mu_data.shape)\n",
    "print(Q_data.shape)"
   ]
  },
  {
   "cell_type": "code",
   "execution_count": 118,
   "metadata": {},
   "outputs": [
    {
     "name": "stdout",
     "output_type": "stream",
     "text": [
      "(956, 7)\n",
      "(1262, 7)\n",
      "(1270, 7)\n",
      "(1270, 7)\n"
     ]
    }
   ],
   "source": [
    "def search(data, t_z, t_a):\n",
    "    for index, row in enumerate(data):\n",
    "        if row[0] == t_z and row[1] == t_a:\n",
    "            return index\n",
    "    return -1\n",
    "\n",
    "\n",
    "print(rrms_data.shape)\n",
    "\n",
    "# insert/update values from mu_data\n",
    "for [z, a, I, pi, mu] in mu_data:\n",
    "    index = search(rrms_data, z, a)\n",
    "    if index == -1:\n",
    "        rrms_data = np.append(rrms_data, [[z, a, np.nan, I, pi, mu, np.nan]], axis=0)\n",
    "    else:\n",
    "        rrms_data[index][3] = I\n",
    "        rrms_data[index][4] = pi\n",
    "        rrms_data[index][5] = mu\n",
    "\n",
    "print(rrms_data.shape)\n",
    "\n",
    "# insert/update values from Q_data\n",
    "for [z, a, I, pi, q] in Q_data:\n",
    "    index = search(rrms_data, z, a)\n",
    "    if index == -1:\n",
    "        rrms_data = np.append(rrms_data, [[z, a, np.nan, I, pi, np.nan, q]], axis=0)\n",
    "    else:\n",
    "        rrms_data[index][3] = I\n",
    "        rrms_data[index][4] = pi\n",
    "        rrms_data[index][6] = q\n",
    "\n",
    "# re-convert floats to integers..\n",
    "for index in range(len(rrms_data)):\n",
    "    rrms_data[index][0] = int(rrms_data[index][0])\n",
    "    rrms_data[index][1] = int(rrms_data[index][1])\n",
    "    if not np.isnan(rrms_data[index][4]):\n",
    "        rrms_data[index][4] = int(rrms_data[index][4])\n",
    "\n",
    "print(rrms_data.shape)\n",
    "\n",
    "# sort by Z, then A\n",
    "ind = np.lexsort((rrms_data[:, 0], rrms_data[:, 1]))\n",
    "rrms_data = rrms_data[ind]\n",
    "\n",
    "print(rrms_data.shape)"
   ]
  },
  {
   "cell_type": "code",
   "execution_count": 119,
   "metadata": {},
   "outputs": [
    {
     "name": "stdout",
     "output_type": "stream",
     "text": [
      "[31, 74, 4.0395, nan, -1, 0.0, 0.55]\n"
     ]
    }
   ],
   "source": [
    "for [z, a, rrms, I, pi, mu, q] in rrms_data:\n",
    "    if np.isnan(I) and not np.isnan(mu):\n",
    "        print([z, a, rrms, I, pi, mu, q])"
   ]
  },
  {
   "cell_type": "code",
   "execution_count": 120,
   "metadata": {},
   "outputs": [
    {
     "name": "stdout",
     "output_type": "stream",
     "text": [
      "[87, 202, 5.5505, 3.0, 1, 3.9, nan]\n",
      "[87, 203, 5.556, 4.5, -1, 3.74, -0.47]\n",
      "[87, 204, nan, 3.0, 1, 3.99, -0.141]\n",
      "[87, 205, 5.5609, 4.5, -1, 3.8, -0.305]\n",
      "[87, 206, nan, 3.0, 1, 3.97, -0.354]\n",
      "[87, 207, 5.5689, 4.5, -1, 3.87, -0.24]\n",
      "[87, 208, 5.5699, 7.0, 1, 4.71, 0.052]\n",
      "[87, 209, 5.578, 4.5, -1, 3.93, -0.26]\n",
      "[87, 210, 5.5803, 6.0, 1, 4.38, 0.21]\n",
      "[87, 211, 5.5876, 4.5, -1, 3.97, -0.21]\n",
      "[87, 212, 5.5915, 5.0, 1, 4.59, -0.1]\n",
      "[87, 213, 5.5986, 4.5, -1, 3.99, -0.138]\n",
      "[87, 214, nan, 1.0, -1, 0.241, nan]\n",
      "[87, 219, nan, 2.5, -1, nan, -1.19]\n",
      "[87, 220, 5.6803, 1.0, 1, -0.66, 0.487]\n",
      "[87, 221, 5.692, 2.5, -1, 1.57, -1.02]\n",
      "[87, 222, 5.7018, 2.0, -1, 0.63, 0.51]\n",
      "[87, 223, 5.7104, 1.5, -1, 1.16, 1.18]\n",
      "[87, 224, 5.7229, 1.0, -1, 0.4, 0.523]\n",
      "[87, 225, 5.7288, 1.5, -1, 1.06, 1.33]\n",
      "[87, 226, 5.7376, 1.0, 1, 0.0712, -1.37]\n",
      "[87, 227, 5.7542, 0.5, 1, 1.49, nan]\n",
      "[87, 228, 5.7614, 2.0, -1, -0.76, 2.41]\n"
     ]
    }
   ],
   "source": [
    "for [z, a, rrms, I, pi, mu, q] in rrms_data:\n",
    "    if z == 87:\n",
    "        print([z, a, rrms, I, pi, mu, q])"
   ]
  }
 ],
 "metadata": {
  "kernelspec": {
   "display_name": "Python 3",
   "language": "python",
   "name": "python3"
  },
  "language_info": {
   "codemirror_mode": {
    "name": "ipython",
    "version": 3
   },
   "file_extension": ".py",
   "mimetype": "text/x-python",
   "name": "python",
   "nbconvert_exporter": "python",
   "pygments_lexer": "ipython3",
   "version": "3.10.12"
  }
 },
 "nbformat": 4,
 "nbformat_minor": 2
}
